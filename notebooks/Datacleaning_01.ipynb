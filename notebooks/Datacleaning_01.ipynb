{
 "cells": [
  {
   "cell_type": "code",
   "execution_count": 1,
   "id": "7040220a-2fa8-45e8-85eb-1ba83bc25ff3",
   "metadata": {},
   "outputs": [],
   "source": [
    "import pandas as pd"
   ]
  },
  {
   "cell_type": "code",
   "execution_count": 2,
   "id": "75bd29ba-4f09-409f-a15e-2865dca807f8",
   "metadata": {},
   "outputs": [
    {
     "name": "stdout",
     "output_type": "stream",
     "text": [
      "Collecting Bio\n",
      "  Downloading bio-1.3.9-py3-none-any.whl (270 kB)\n",
      "\u001b[2K     \u001b[90m━━━━━━━━━━━━━━━━━━━━━━━━━━━━━━━━━━━━━━━\u001b[0m \u001b[32m270.9/270.9 kB\u001b[0m \u001b[31m3.5 MB/s\u001b[0m eta \u001b[36m0:00:00\u001b[0m00:01\u001b[0m00:01\u001b[0m\n",
      "\u001b[?25hCollecting biopython>=1.79\n",
      "  Downloading biopython-1.79-cp38-cp38-manylinux_2_5_x86_64.manylinux1_x86_64.whl (2.3 MB)\n",
      "\u001b[2K     \u001b[90m━━━━━━━━━━━━━━━━━━━━━━━━━━━━━━━━━━━━━━━━\u001b[0m \u001b[32m2.3/2.3 MB\u001b[0m \u001b[31m10.1 MB/s\u001b[0m eta \u001b[36m0:00:00\u001b[0m00:01\u001b[0m0:01\u001b[0mm\n",
      "\u001b[?25hCollecting mygene\n",
      "  Downloading mygene-3.2.2-py2.py3-none-any.whl (5.4 kB)\n",
      "Requirement already satisfied: requests in /home/loups/.pyenv/versions/3.8.12/envs/Project_Viroid/lib/python3.8/site-packages (from Bio) (2.27.1)\n",
      "Collecting tqdm\n",
      "  Downloading tqdm-4.64.0-py2.py3-none-any.whl (78 kB)\n",
      "\u001b[2K     \u001b[90m━━━━━━━━━━━━━━━━━━━━━━━━━━━━━━━━━━━━━━━━\u001b[0m \u001b[32m78.4/78.4 kB\u001b[0m \u001b[31m6.9 MB/s\u001b[0m eta \u001b[36m0:00:00\u001b[0m\n",
      "\u001b[?25hRequirement already satisfied: numpy in /home/loups/.pyenv/versions/3.8.12/envs/Project_Viroid/lib/python3.8/site-packages (from biopython>=1.79->Bio) (1.22.4)\n",
      "Collecting biothings-client>=0.2.6\n",
      "  Downloading biothings_client-0.2.6-py2.py3-none-any.whl (37 kB)\n",
      "Requirement already satisfied: idna<4,>=2.5 in /home/loups/.pyenv/versions/3.8.12/envs/Project_Viroid/lib/python3.8/site-packages (from requests->Bio) (3.3)\n",
      "Requirement already satisfied: certifi>=2017.4.17 in /home/loups/.pyenv/versions/3.8.12/envs/Project_Viroid/lib/python3.8/site-packages (from requests->Bio) (2022.5.18.1)\n",
      "Requirement already satisfied: urllib3<1.27,>=1.21.1 in /home/loups/.pyenv/versions/3.8.12/envs/Project_Viroid/lib/python3.8/site-packages (from requests->Bio) (1.26.9)\n",
      "Requirement already satisfied: charset-normalizer~=2.0.0 in /home/loups/.pyenv/versions/3.8.12/envs/Project_Viroid/lib/python3.8/site-packages (from requests->Bio) (2.0.12)\n",
      "Installing collected packages: tqdm, biopython, biothings-client, mygene, Bio\n",
      "Successfully installed Bio-1.3.9 biopython-1.79 biothings-client-0.2.6 mygene-3.2.2 tqdm-4.64.0\n"
     ]
    }
   ],
   "source": [
    "!pip install Bio"
   ]
  },
  {
   "cell_type": "code",
   "execution_count": 3,
   "id": "d71db727-e5a9-41cc-b01b-92ff7962feeb",
   "metadata": {},
   "outputs": [],
   "source": [
    "from Bio import SeqIO"
   ]
  },
  {
   "cell_type": "code",
   "execution_count": 18,
   "id": "dfea0532-1b17-41de-a1ff-b471a030163d",
   "metadata": {
    "tags": []
   },
   "outputs": [],
   "source": [
    "viroids = pd.DataFrame()\n",
    "IDs=[]\n",
    "Seqs=[]\n",
    "\n",
    "for row in SeqIO.parse('../raw_data/viroids.fasta','fasta'):\n",
    "    IDs.append(row.id)\n",
    "    Seqs.append(row.seq)\n",
    "    \n",
    "viroids['ID'] = IDs\n",
    "viroids['Sequence'] = Seqs\n",
    "viroids['IsViroid'] = 1"
   ]
  },
  {
   "cell_type": "code",
   "execution_count": 19,
   "id": "59cb30d5-77e2-4b23-8c89-106593d7a392",
   "metadata": {},
   "outputs": [],
   "source": [
    "viruses = pd.DataFrame()\n",
    "IDs=[]\n",
    "Seqs=[]\n",
    "\n",
    "for row in SeqIO.parse('../raw_data/virus.fasta','fasta'):\n",
    "    IDs.append(row.id)\n",
    "    Seqs.append(row.seq)\n",
    "    \n",
    "viruses['ID'] = IDs\n",
    "viruses['Sequence'] = Seqs\n",
    "viruses['IsViroid'] = 0"
   ]
  },
  {
   "cell_type": "code",
   "execution_count": 23,
   "id": "5d0e08aa-556e-425b-8d9b-bc1495971405",
   "metadata": {},
   "outputs": [
    {
     "data": {
      "text/plain": [
       "19397"
      ]
     },
     "execution_count": 23,
     "metadata": {},
     "output_type": "execute_result"
    }
   ],
   "source": [
    "len(viruses) + len(viroids)"
   ]
  },
  {
   "cell_type": "code",
   "execution_count": 24,
   "id": "16cf875d-05dd-4361-8718-41c6e946968f",
   "metadata": {},
   "outputs": [],
   "source": [
    "df_final = viroids.merge(viruses, how=\"outer\")"
   ]
  },
  {
   "cell_type": "code",
   "execution_count": 39,
   "id": "11fa0209-558d-4daf-b1d5-00ecbee9ac82",
   "metadata": {},
   "outputs": [],
   "source": [
    "seqs=[]\n",
    "for seq in df_final['Sequence']:\n",
    "    seq = str(seq)\n",
    "    seqs.append(seq)\n",
    "df_final['Sequence'] = seqs"
   ]
  },
  {
   "cell_type": "code",
   "execution_count": 45,
   "id": "907bab08-6dbb-4b53-a75e-b13e95ab0c96",
   "metadata": {},
   "outputs": [
    {
     "data": {
      "text/html": [
       "<div>\n",
       "<style scoped>\n",
       "    .dataframe tbody tr th:only-of-type {\n",
       "        vertical-align: middle;\n",
       "    }\n",
       "\n",
       "    .dataframe tbody tr th {\n",
       "        vertical-align: top;\n",
       "    }\n",
       "\n",
       "    .dataframe thead th {\n",
       "        text-align: right;\n",
       "    }\n",
       "</style>\n",
       "<table border=\"1\" class=\"dataframe\">\n",
       "  <thead>\n",
       "    <tr style=\"text-align: right;\">\n",
       "      <th></th>\n",
       "      <th>ID</th>\n",
       "      <th>Sequence</th>\n",
       "      <th>IsViroid</th>\n",
       "      <th>Length</th>\n",
       "    </tr>\n",
       "  </thead>\n",
       "  <tbody>\n",
       "    <tr>\n",
       "      <th>0</th>\n",
       "      <td>NC_039241.1</td>\n",
       "      <td>GGGTGGTGTGTGCCACCCCTGATGAGACCGAAAGGTCGAAATGGGG...</td>\n",
       "      <td>1</td>\n",
       "      <td>333</td>\n",
       "    </tr>\n",
       "    <tr>\n",
       "      <th>1</th>\n",
       "      <td>NC_003540.1</td>\n",
       "      <td>GGCACCTGACGTCGGTGTCCTGATGAAGATCCATGACAGGATCGAA...</td>\n",
       "      <td>1</td>\n",
       "      <td>399</td>\n",
       "    </tr>\n",
       "    <tr>\n",
       "      <th>2</th>\n",
       "      <td>NC_003636.1</td>\n",
       "      <td>GTCATAAGTTTCGTCGCATTTCAGCGACTCATCAGTGGGCTTAGCC...</td>\n",
       "      <td>1</td>\n",
       "      <td>337</td>\n",
       "    </tr>\n",
       "    <tr>\n",
       "      <th>3</th>\n",
       "      <td>NC_001410.1</td>\n",
       "      <td>TTTATTAGAACAAGAAGTGAGGATATGATTAAACTTTGTTTGACGA...</td>\n",
       "      <td>1</td>\n",
       "      <td>247</td>\n",
       "    </tr>\n",
       "    <tr>\n",
       "      <th>4</th>\n",
       "      <td>MW046337.1</td>\n",
       "      <td>CCCGATAGAAAGGCTAAGCACCTCGCAATGACGTAAGGTGGGACTT...</td>\n",
       "      <td>1</td>\n",
       "      <td>339</td>\n",
       "    </tr>\n",
       "    <tr>\n",
       "      <th>...</th>\n",
       "      <td>...</td>\n",
       "      <td>...</td>\n",
       "      <td>...</td>\n",
       "      <td>...</td>\n",
       "    </tr>\n",
       "    <tr>\n",
       "      <th>19392</th>\n",
       "      <td>MF066697.1_282_203</td>\n",
       "      <td>GCGGAGTTCCACATCGGCGGACGCGACGACATACGATTGTGTGCCG...</td>\n",
       "      <td>0</td>\n",
       "      <td>282</td>\n",
       "    </tr>\n",
       "    <tr>\n",
       "      <th>19393</th>\n",
       "      <td>AY624020.1_401_15</td>\n",
       "      <td>GCTTAGGCATTTTGAATTAAATCCAGTGGGCCAAAGCCTCTTTAAT...</td>\n",
       "      <td>0</td>\n",
       "      <td>401</td>\n",
       "    </tr>\n",
       "    <tr>\n",
       "      <th>19394</th>\n",
       "      <td>MW574021.1_304_437</td>\n",
       "      <td>CATCCCTAAGGGATGTGTTGGTCCCTGTAAGGTACAGGATTACGAA...</td>\n",
       "      <td>0</td>\n",
       "      <td>304</td>\n",
       "    </tr>\n",
       "    <tr>\n",
       "      <th>19395</th>\n",
       "      <td>KP313717.1_404_119</td>\n",
       "      <td>CCCAGGATCTATCGGACGTTGAGGACGCCTGATGTTCCAAGAGGTT...</td>\n",
       "      <td>0</td>\n",
       "      <td>404</td>\n",
       "    </tr>\n",
       "    <tr>\n",
       "      <th>19396</th>\n",
       "      <td>MT599407.1_446_12</td>\n",
       "      <td>CCTTTGGACTAAGGTCCAGGTGTCCACACAGGTAATTGTGTGGGCC...</td>\n",
       "      <td>0</td>\n",
       "      <td>446</td>\n",
       "    </tr>\n",
       "  </tbody>\n",
       "</table>\n",
       "<p>19397 rows × 4 columns</p>\n",
       "</div>"
      ],
      "text/plain": [
       "                       ID                                           Sequence  \\\n",
       "0             NC_039241.1  GGGTGGTGTGTGCCACCCCTGATGAGACCGAAAGGTCGAAATGGGG...   \n",
       "1             NC_003540.1  GGCACCTGACGTCGGTGTCCTGATGAAGATCCATGACAGGATCGAA...   \n",
       "2             NC_003636.1  GTCATAAGTTTCGTCGCATTTCAGCGACTCATCAGTGGGCTTAGCC...   \n",
       "3             NC_001410.1  TTTATTAGAACAAGAAGTGAGGATATGATTAAACTTTGTTTGACGA...   \n",
       "4              MW046337.1  CCCGATAGAAAGGCTAAGCACCTCGCAATGACGTAAGGTGGGACTT...   \n",
       "...                   ...                                                ...   \n",
       "19392  MF066697.1_282_203  GCGGAGTTCCACATCGGCGGACGCGACGACATACGATTGTGTGCCG...   \n",
       "19393   AY624020.1_401_15  GCTTAGGCATTTTGAATTAAATCCAGTGGGCCAAAGCCTCTTTAAT...   \n",
       "19394  MW574021.1_304_437  CATCCCTAAGGGATGTGTTGGTCCCTGTAAGGTACAGGATTACGAA...   \n",
       "19395  KP313717.1_404_119  CCCAGGATCTATCGGACGTTGAGGACGCCTGATGTTCCAAGAGGTT...   \n",
       "19396   MT599407.1_446_12  CCTTTGGACTAAGGTCCAGGTGTCCACACAGGTAATTGTGTGGGCC...   \n",
       "\n",
       "       IsViroid  Length  \n",
       "0             1     333  \n",
       "1             1     399  \n",
       "2             1     337  \n",
       "3             1     247  \n",
       "4             1     339  \n",
       "...         ...     ...  \n",
       "19392         0     282  \n",
       "19393         0     401  \n",
       "19394         0     304  \n",
       "19395         0     404  \n",
       "19396         0     446  \n",
       "\n",
       "[19397 rows x 4 columns]"
      ]
     },
     "execution_count": 45,
     "metadata": {},
     "output_type": "execute_result"
    }
   ],
   "source": [
    "df_final['Length'] = [len(df_final['Sequence'][i]) for i in range(len(df_final))]\n",
    "df_final"
   ]
  },
  {
   "cell_type": "code",
   "execution_count": 48,
   "id": "1ed0cdfb-22e1-4c48-8b12-cbd35e4a475f",
   "metadata": {},
   "outputs": [
    {
     "data": {
      "text/plain": [
       "<AxesSubplot:>"
      ]
     },
     "execution_count": 48,
     "metadata": {},
     "output_type": "execute_result"
    },
    {
     "data": {
      "image/png": "[encoded data removed]",
      "text/plain": [
       "<Figure size 432x288 with 1 Axes>"
      ]
     },
     "metadata": {
      "needs_background": "light"
     },
     "output_type": "display_data"
    }
   ],
   "source": [
    "df_final['Length'].hist()"
   ]
  },
  {
   "cell_type": "code",
   "execution_count": 49,
   "id": "062ffef3-3065-4c15-93ec-110b53e483bb",
   "metadata": {},
   "outputs": [],
   "source": [
    "df_final.to_csv('../data/df_final.csv')"
   ]
  }
 ],
 "metadata": {
  "kernelspec": {
   "display_name": "Python 3 (ipykernel)",
   "language": "python",
   "name": "python3"
  },
  "language_info": {
   "codemirror_mode": {
    "name": "ipython",
    "version": 3
   },
   "file_extension": ".py",
   "mimetype": "text/x-python",
   "name": "python",
   "nbconvert_exporter": "python",
   "pygments_lexer": "ipython3",
   "version": "3.8.12"
  }
 },
 "nbformat": 4,
 "nbformat_minor": 5
}
